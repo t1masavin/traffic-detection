{
 "cells": [
  {
   "cell_type": "code",
   "execution_count": 1,
   "metadata": {},
   "outputs": [],
   "source": [
    "from service_loader import sys_append_abs, Path\n",
    "sys_append_abs()\n",
    "from detection.services.service import get_image, visualize_bbox, convertFromJson, convertToXYmax"
   ]
  },
  {
   "cell_type": "code",
   "execution_count": 2,
   "metadata": {},
   "outputs": [],
   "source": [
    "import os\n",
    "import glob\n",
    "import pandas as pd\n",
    "import cv2\n",
    "import matplotlib.pyplot as plt"
   ]
  },
  {
   "cell_type": "code",
   "execution_count": 3,
   "metadata": {},
   "outputs": [],
   "source": [
    "ROOT = Path('__file__').resolve().parents[2]"
   ]
  },
  {
   "cell_type": "code",
   "execution_count": 4,
   "metadata": {},
   "outputs": [
    {
     "data": {
      "text/plain": [
       "['/root/workspace/work/Digital-Tashkent/Signs/data/content/23.06.2022',\n",
       " '/root/workspace/work/Digital-Tashkent/Signs/data/content/6 Otabek 06.21',\n",
       " '/root/workspace/work/Digital-Tashkent/Signs/data/content/27062022',\n",
       " '/root/workspace/work/Digital-Tashkent/Signs/data/content/28.06.2022 full',\n",
       " '/root/workspace/work/Digital-Tashkent/Signs/data/content/3',\n",
       " '/root/workspace/work/Digital-Tashkent/Signs/data/content/19.07.2022',\n",
       " '/root/workspace/work/Digital-Tashkent/Signs/data/content/30062022',\n",
       " '/root/workspace/work/Digital-Tashkent/Signs/data/content/15082022',\n",
       " '/root/workspace/work/Digital-Tashkent/Signs/data/content/7 Otabek 06.21',\n",
       " '/root/workspace/work/Digital-Tashkent/Signs/data/content/05.07-22.08',\n",
       " '/root/workspace/work/Digital-Tashkent/Signs/data/content/5 Otabek 06.21',\n",
       " '/root/workspace/work/Digital-Tashkent/Signs/data/content/13082022',\n",
       " '/root/workspace/work/Digital-Tashkent/Signs/data/content/1',\n",
       " '/root/workspace/work/Digital-Tashkent/Signs/data/content/2',\n",
       " '/root/workspace/work/Digital-Tashkent/Signs/data/content/30.06.2022',\n",
       " '/root/workspace/work/Digital-Tashkent/Signs/data/content/22062022_2']"
      ]
     },
     "execution_count": 4,
     "metadata": {},
     "output_type": "execute_result"
    }
   ],
   "source": [
    "content_path = glob.glob(os.path.join(ROOT, 'data/content/*'))\n",
    "content_path"
   ]
  },
  {
   "cell_type": "code",
   "execution_count": 5,
   "metadata": {},
   "outputs": [
    {
     "data": {
      "text/plain": [
       "['/root/workspace/work/Digital-Tashkent/Signs/data/content/23.06.2022/23.06.2022 tr_csv.csv',\n",
       " '/root/workspace/work/Digital-Tashkent/Signs/data/content/6 Otabek 06.21/Example_Project_Attributes_included_csv.csv',\n",
       " '/root/workspace/work/Digital-Tashkent/Signs/data/content/27062022/27062022_csv.csv',\n",
       " '/root/workspace/work/Digital-Tashkent/Signs/data/content/28.06.2022 full/28062022 from 00010F_4 .csv',\n",
       " '/root/workspace/work/Digital-Tashkent/Signs/data/content/28.06.2022 full/28062022 to 00010F_4.csv',\n",
       " '/root/workspace/work/Digital-Tashkent/Signs/data/content/3/khakimov- sign project 3_csv.csv',\n",
       " '/root/workspace/work/Digital-Tashkent/Signs/data/content/19.07.2022/19_07_22_csv.csv',\n",
       " '/root/workspace/work/Digital-Tashkent/Signs/data/content/30062022/30.06.22 (113415, 115029, 123930)_csv.csv',\n",
       " '/root/workspace/work/Digital-Tashkent/Signs/data/content/15082022/15.08.2022 full_csv.csv',\n",
       " '/root/workspace/work/Digital-Tashkent/Signs/data/content/7 Otabek 06.21/Example_Project_Attributes_included_csv.csv',\n",
       " '/root/workspace/work/Digital-Tashkent/Signs/data/content/05.07-22.08/05.07.2022 (full)_csv.csv',\n",
       " '/root/workspace/work/Digital-Tashkent/Signs/data/content/05.07-22.08/22.08.2022 (full)_csv.csv',\n",
       " '/root/workspace/work/Digital-Tashkent/Signs/data/content/05.07-22.08/temur_full_csv.csv',\n",
       " '/root/workspace/work/Digital-Tashkent/Signs/data/content/5 Otabek 06.21/Example_Project_Attributes_included_csv.csv',\n",
       " '/root/workspace/work/Digital-Tashkent/Signs/data/content/13082022/13.08.2022 full_csv.csv',\n",
       " '/root/workspace/work/Digital-Tashkent/Signs/data/content/1/Road_Signs_1(October)_csv.csv',\n",
       " '/root/workspace/work/Digital-Tashkent/Signs/data/content/2/Road_Signs_2(October)_csv.csv',\n",
       " '/root/workspace/work/Digital-Tashkent/Signs/data/content/30.06.2022/30.06.2022tt_csv.csv',\n",
       " '/root/workspace/work/Digital-Tashkent/Signs/data/content/22062022_2/22.06.2022 full_csv.csv']"
      ]
     },
     "execution_count": 5,
     "metadata": {},
     "output_type": "execute_result"
    }
   ],
   "source": [
    "list_train = glob.glob(os.path.join(ROOT, 'data/content/*/*.csv'))\n",
    "list_train"
   ]
  },
  {
   "cell_type": "code",
   "execution_count": null,
   "metadata": {},
   "outputs": [],
   "source": [
    "# def splitter(item):\n",
    "#     return item.split(':')[-1].split('}')[0]\n",
    "# df = pd.read_csv(list_train[-1])\n",
    "# df.reset_index(inplace=True)\n",
    "# df.drop(['level_1', 'level_2', 'level_3', 'level_4', 'filename'], inplace=True, axis=1)\n",
    "# df.columns = ['filename', 'x', 'y', 'width', 'height', 'Name', 'Type']\n",
    "# for col in df.columns:\n",
    "#     df[col] = df[col].apply(splitter)\n",
    "# df.to_csv(list_train[-1])"
   ]
  },
  {
   "cell_type": "code",
   "execution_count": 6,
   "metadata": {},
   "outputs": [],
   "source": [
    "def get_crop(img, bbox):\n",
    "    return img[bbox[1]:bbox[3], bbox[0]:bbox[2]]\n",
    "\n",
    "def wrapper(pth):\n",
    "    def root2path(item):\n",
    "        return os.path.join(pth, item)\n",
    "    return root2path\n",
    "\n",
    "def joiner(csv_item):\n",
    "    data = pd.read_csv(csv_item)\n",
    "    pth = '/'.join(csv_item.split('/')[:-1])\n",
    "    data = convertFromJson(data)\n",
    "    data = convertToXYmax(data)\n",
    "    data['image'] = data['image'].apply(wrapper(pth))\n",
    "    return data"
   ]
  },
  {
   "cell_type": "code",
   "execution_count": 62,
   "metadata": {},
   "outputs": [
    {
     "name": "stderr",
     "output_type": "stream",
     "text": [
      "/root/workspace/work/Digital-Tashkent/Signs/traffic-sign-recognition/detection/services/service.py:68: FutureWarning: In a future version of pandas all arguments of concat except for the argument 'objs' will be keyword-only.\n",
      "  data = pd.concat([data, datadf, datadf2],1)[['filename','height','width','x','y', 'Name', 'Type']]\n",
      "/root/workspace/work/Digital-Tashkent/Signs/traffic-sign-recognition/detection/services/service.py:82: FutureWarning: In a future version of pandas all arguments of concat except for the argument 'objs' will be keyword-only.\n",
      "  data = pd.concat([data, datadf, datadf2],1)\n"
     ]
    },
    {
     "data": {
      "text/plain": [
       "<matplotlib.image.AxesImage at 0x7f197d714e80>"
      ]
     },
     "execution_count": 62,
     "metadata": {},
     "output_type": "execute_result"
    },
    {
     "data": {
      "image/png": "[encoded data removed]",
      "text/plain": [
       "<Figure size 640x480 with 1 Axes>"
      ]
     },
     "metadata": {},
     "output_type": "display_data"
    }
   ],
   "source": [
    "# 18 trash file\n",
    "index = 17\n",
    "data = joiner(list_train[index])\n",
    "im, bbox = get_image(data, index)\n",
    "bbox = list(map(int, bbox))\n",
    "plt.imshow(get_crop(im, bbox))"
   ]
  },
  {
   "cell_type": "code",
   "execution_count": 63,
   "metadata": {},
   "outputs": [
    {
     "data": {
      "text/html": [
       "<div>\n",
       "<style scoped>\n",
       "    .dataframe tbody tr th:only-of-type {\n",
       "        vertical-align: middle;\n",
       "    }\n",
       "\n",
       "    .dataframe tbody tr th {\n",
       "        vertical-align: top;\n",
       "    }\n",
       "\n",
       "    .dataframe thead th {\n",
       "        text-align: right;\n",
       "    }\n",
       "</style>\n",
       "<table border=\"1\" class=\"dataframe\">\n",
       "  <thead>\n",
       "    <tr style=\"text-align: right;\">\n",
       "      <th></th>\n",
       "      <th>image</th>\n",
       "      <th>xmin</th>\n",
       "      <th>ymin</th>\n",
       "      <th>xmax</th>\n",
       "      <th>ymax</th>\n",
       "      <th>name</th>\n",
       "      <th>class</th>\n",
       "    </tr>\n",
       "  </thead>\n",
       "  <tbody>\n",
       "    <tr>\n",
       "      <th>0</th>\n",
       "      <td>/root/workspace/work/Digital-Tashkent/Signs/da...</td>\n",
       "      <td>1847.0</td>\n",
       "      <td>546.0</td>\n",
       "      <td>1906.0</td>\n",
       "      <td>608.0</td>\n",
       "      <td>5.17.1</td>\n",
       "      <td>Informational_sign</td>\n",
       "    </tr>\n",
       "    <tr>\n",
       "      <th>1</th>\n",
       "      <td>/root/workspace/work/Digital-Tashkent/Signs/da...</td>\n",
       "      <td>1718.0</td>\n",
       "      <td>597.0</td>\n",
       "      <td>1776.0</td>\n",
       "      <td>661.0</td>\n",
       "      <td>3.27</td>\n",
       "      <td>Forbidding_sign</td>\n",
       "    </tr>\n",
       "    <tr>\n",
       "      <th>2</th>\n",
       "      <td>/root/workspace/work/Digital-Tashkent/Signs/da...</td>\n",
       "      <td>1717.0</td>\n",
       "      <td>659.0</td>\n",
       "      <td>1783.0</td>\n",
       "      <td>696.0</td>\n",
       "      <td>7.21</td>\n",
       "      <td>Additional_info_sign</td>\n",
       "    </tr>\n",
       "    <tr>\n",
       "      <th>3</th>\n",
       "      <td>/root/workspace/work/Digital-Tashkent/Signs/da...</td>\n",
       "      <td>2086.0</td>\n",
       "      <td>509.0</td>\n",
       "      <td>2177.0</td>\n",
       "      <td>622.0</td>\n",
       "      <td>3.27</td>\n",
       "      <td>Forbidding_sign</td>\n",
       "    </tr>\n",
       "    <tr>\n",
       "      <th>4</th>\n",
       "      <td>/root/workspace/work/Digital-Tashkent/Signs/da...</td>\n",
       "      <td>2089.0</td>\n",
       "      <td>618.0</td>\n",
       "      <td>2190.0</td>\n",
       "      <td>685.0</td>\n",
       "      <td>7.21</td>\n",
       "      <td>Additional_info_sign</td>\n",
       "    </tr>\n",
       "  </tbody>\n",
       "</table>\n",
       "</div>"
      ],
      "text/plain": [
       "                                               image    xmin   ymin    xmax  \\\n",
       "0  /root/workspace/work/Digital-Tashkent/Signs/da...  1847.0  546.0  1906.0   \n",
       "1  /root/workspace/work/Digital-Tashkent/Signs/da...  1718.0  597.0  1776.0   \n",
       "2  /root/workspace/work/Digital-Tashkent/Signs/da...  1717.0  659.0  1783.0   \n",
       "3  /root/workspace/work/Digital-Tashkent/Signs/da...  2086.0  509.0  2177.0   \n",
       "4  /root/workspace/work/Digital-Tashkent/Signs/da...  2089.0  618.0  2190.0   \n",
       "\n",
       "    ymax    name                 class  \n",
       "0  608.0  5.17.1    Informational_sign  \n",
       "1  661.0    3.27       Forbidding_sign  \n",
       "2  696.0    7.21  Additional_info_sign  \n",
       "3  622.0    3.27       Forbidding_sign  \n",
       "4  685.0    7.21  Additional_info_sign  "
      ]
     },
     "execution_count": 63,
     "metadata": {},
     "output_type": "execute_result"
    }
   ],
   "source": [
    "data.head()"
   ]
  },
  {
   "cell_type": "code",
   "execution_count": 64,
   "metadata": {},
   "outputs": [
    {
     "data": {
      "text/html": [
       "<div>\n",
       "<style scoped>\n",
       "    .dataframe tbody tr th:only-of-type {\n",
       "        vertical-align: middle;\n",
       "    }\n",
       "\n",
       "    .dataframe tbody tr th {\n",
       "        vertical-align: top;\n",
       "    }\n",
       "\n",
       "    .dataframe thead th {\n",
       "        text-align: right;\n",
       "    }\n",
       "</style>\n",
       "<table border=\"1\" class=\"dataframe\">\n",
       "  <thead>\n",
       "    <tr style=\"text-align: right;\">\n",
       "      <th></th>\n",
       "      <th>filename</th>\n",
       "      <th>x</th>\n",
       "      <th>y</th>\n",
       "      <th>width</th>\n",
       "      <th>height</th>\n",
       "      <th>Name</th>\n",
       "      <th>Type</th>\n",
       "    </tr>\n",
       "  </thead>\n",
       "  <tbody>\n",
       "    <tr>\n",
       "      <th>0</th>\n",
       "      <td>NO20220622-110621-000005F_1.jpg</td>\n",
       "      <td>731</td>\n",
       "      <td>700</td>\n",
       "      <td>59</td>\n",
       "      <td>64</td>\n",
       "      <td>5.16.1</td>\n",
       "      <td>Prescriptive_sign</td>\n",
       "    </tr>\n",
       "    <tr>\n",
       "      <th>1</th>\n",
       "      <td>NO20220622-110621-000005F_1.jpg</td>\n",
       "      <td>1822</td>\n",
       "      <td>717</td>\n",
       "      <td>49</td>\n",
       "      <td>50</td>\n",
       "      <td>5.16.2</td>\n",
       "      <td>Prescriptive_sign</td>\n",
       "    </tr>\n",
       "    <tr>\n",
       "      <th>2</th>\n",
       "      <td>NO20220622-110621-000005F_1.jpg</td>\n",
       "      <td>1814</td>\n",
       "      <td>658</td>\n",
       "      <td>55</td>\n",
       "      <td>56</td>\n",
       "      <td>2.1</td>\n",
       "      <td>Priority_sign</td>\n",
       "    </tr>\n",
       "    <tr>\n",
       "      <th>3</th>\n",
       "      <td>NO20220622-110621-000005F_2.jpg</td>\n",
       "      <td>322</td>\n",
       "      <td>587</td>\n",
       "      <td>72</td>\n",
       "      <td>96</td>\n",
       "      <td>5.16.1</td>\n",
       "      <td>Prescriptive_sign</td>\n",
       "    </tr>\n",
       "    <tr>\n",
       "      <th>4</th>\n",
       "      <td>NO20220622-110621-000005F_2.jpg</td>\n",
       "      <td>2181</td>\n",
       "      <td>639</td>\n",
       "      <td>52</td>\n",
       "      <td>75</td>\n",
       "      <td>5.16.2</td>\n",
       "      <td>Prescriptive_sign</td>\n",
       "    </tr>\n",
       "  </tbody>\n",
       "</table>\n",
       "</div>"
      ],
      "text/plain": [
       "                          filename     x    y  width  height    Name  \\\n",
       "0  NO20220622-110621-000005F_1.jpg   731  700     59      64  5.16.1   \n",
       "1  NO20220622-110621-000005F_1.jpg  1822  717     49      50  5.16.2   \n",
       "2  NO20220622-110621-000005F_1.jpg  1814  658     55      56     2.1   \n",
       "3  NO20220622-110621-000005F_2.jpg   322  587     72      96  5.16.1   \n",
       "4  NO20220622-110621-000005F_2.jpg  2181  639     52      75  5.16.2   \n",
       "\n",
       "                Type  \n",
       "0  Prescriptive_sign  \n",
       "1  Prescriptive_sign  \n",
       "2      Priority_sign  \n",
       "3  Prescriptive_sign  \n",
       "4  Prescriptive_sign  "
      ]
     },
     "execution_count": 64,
     "metadata": {},
     "output_type": "execute_result"
    }
   ],
   "source": [
    "data = pd.read_csv(list_train[-1])\n",
    "data = data.drop(data.columns[0], axis=1)\n",
    "data.head()"
   ]
  },
  {
   "cell_type": "code",
   "execution_count": 66,
   "metadata": {},
   "outputs": [
    {
     "name": "stderr",
     "output_type": "stream",
     "text": [
      "/root/workspace/work/Digital-Tashkent/Signs/traffic-sign-recognition/detection/services/service.py:82: FutureWarning: In a future version of pandas all arguments of concat except for the argument 'objs' will be keyword-only.\n",
      "  data = pd.concat([data, datadf, datadf2],1)\n"
     ]
    },
    {
     "data": {
      "text/html": [
       "<div>\n",
       "<style scoped>\n",
       "    .dataframe tbody tr th:only-of-type {\n",
       "        vertical-align: middle;\n",
       "    }\n",
       "\n",
       "    .dataframe tbody tr th {\n",
       "        vertical-align: top;\n",
       "    }\n",
       "\n",
       "    .dataframe thead th {\n",
       "        text-align: right;\n",
       "    }\n",
       "</style>\n",
       "<table border=\"1\" class=\"dataframe\">\n",
       "  <thead>\n",
       "    <tr style=\"text-align: right;\">\n",
       "      <th></th>\n",
       "      <th>image</th>\n",
       "      <th>xmin</th>\n",
       "      <th>ymin</th>\n",
       "      <th>xmax</th>\n",
       "      <th>ymax</th>\n",
       "      <th>name</th>\n",
       "      <th>class</th>\n",
       "    </tr>\n",
       "  </thead>\n",
       "  <tbody>\n",
       "    <tr>\n",
       "      <th>0</th>\n",
       "      <td>NO20220622-110621-000005F_1.jpg</td>\n",
       "      <td>731</td>\n",
       "      <td>700</td>\n",
       "      <td>790</td>\n",
       "      <td>764</td>\n",
       "      <td>5.16.1</td>\n",
       "      <td>Prescriptive_sign</td>\n",
       "    </tr>\n",
       "    <tr>\n",
       "      <th>1</th>\n",
       "      <td>NO20220622-110621-000005F_1.jpg</td>\n",
       "      <td>1822</td>\n",
       "      <td>717</td>\n",
       "      <td>1871</td>\n",
       "      <td>767</td>\n",
       "      <td>5.16.2</td>\n",
       "      <td>Prescriptive_sign</td>\n",
       "    </tr>\n",
       "    <tr>\n",
       "      <th>2</th>\n",
       "      <td>NO20220622-110621-000005F_1.jpg</td>\n",
       "      <td>1814</td>\n",
       "      <td>658</td>\n",
       "      <td>1869</td>\n",
       "      <td>714</td>\n",
       "      <td>2.1</td>\n",
       "      <td>Priority_sign</td>\n",
       "    </tr>\n",
       "    <tr>\n",
       "      <th>3</th>\n",
       "      <td>NO20220622-110621-000005F_2.jpg</td>\n",
       "      <td>322</td>\n",
       "      <td>587</td>\n",
       "      <td>394</td>\n",
       "      <td>683</td>\n",
       "      <td>5.16.1</td>\n",
       "      <td>Prescriptive_sign</td>\n",
       "    </tr>\n",
       "    <tr>\n",
       "      <th>4</th>\n",
       "      <td>NO20220622-110621-000005F_2.jpg</td>\n",
       "      <td>2181</td>\n",
       "      <td>639</td>\n",
       "      <td>2233</td>\n",
       "      <td>714</td>\n",
       "      <td>5.16.2</td>\n",
       "      <td>Prescriptive_sign</td>\n",
       "    </tr>\n",
       "  </tbody>\n",
       "</table>\n",
       "</div>"
      ],
      "text/plain": [
       "                             image  xmin  ymin  xmax  ymax    name  \\\n",
       "0  NO20220622-110621-000005F_1.jpg   731   700   790   764  5.16.1   \n",
       "1  NO20220622-110621-000005F_1.jpg  1822   717  1871   767  5.16.2   \n",
       "2  NO20220622-110621-000005F_1.jpg  1814   658  1869   714     2.1   \n",
       "3  NO20220622-110621-000005F_2.jpg   322   587   394   683  5.16.1   \n",
       "4  NO20220622-110621-000005F_2.jpg  2181   639  2233   714  5.16.2   \n",
       "\n",
       "               class  \n",
       "0  Prescriptive_sign  \n",
       "1  Prescriptive_sign  \n",
       "2      Priority_sign  \n",
       "3  Prescriptive_sign  \n",
       "4  Prescriptive_sign  "
      ]
     },
     "execution_count": 66,
     "metadata": {},
     "output_type": "execute_result"
    }
   ],
   "source": [
    "data = convertToXYmax(data)\n",
    "data.head()"
   ]
  },
  {
   "cell_type": "code",
   "execution_count": null,
   "metadata": {},
   "outputs": [],
   "source": []
  }
 ],
 "metadata": {
  "kernelspec": {
   "display_name": "sign-rec",
   "language": "python",
   "name": "python3"
  },
  "language_info": {
   "codemirror_mode": {
    "name": "ipython",
    "version": 3
   },
   "file_extension": ".py",
   "mimetype": "text/x-python",
   "name": "python",
   "nbconvert_exporter": "python",
   "pygments_lexer": "ipython3",
   "version": "3.10.8"
  },
  "orig_nbformat": 4,
  "vscode": {
   "interpreter": {
    "hash": "f842aa1788f26e6ab38c014779ece966b3b73b041a52ee3daa1e6cc3a3c21458"
   }
  }
 },
 "nbformat": 4,
 "nbformat_minor": 2
}
