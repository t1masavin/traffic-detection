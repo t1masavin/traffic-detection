{
 "cells": [
  {
   "cell_type": "code",
   "execution_count": 4,
   "metadata": {},
   "outputs": [],
   "source": [
    "# import sys\n",
    "# from pathlib import Path \n",
    "# file = Path('__file__').resolve()\n",
    "# parent, root = file.parent, file.parents[1]\n",
    "# sys.path.append(str(root))\n",
    "from detection.services.service import get_image, visualize_bbox, convertFromJson, convertToXYmax"
   ]
  },
  {
   "cell_type": "code",
   "execution_count": 2,
   "metadata": {},
   "outputs": [],
   "source": [
    "from service_loader import sys_append_abs\n",
    "sys_append_abs()"
   ]
  },
  {
   "cell_type": "code",
   "execution_count": 3,
   "metadata": {},
   "outputs": [],
   "source": [
    "import os\n",
    "import glob\n",
    "import pandas as pd\n",
    "import cv2\n",
    "import matplotlib.pyplot as plt"
   ]
  },
  {
   "cell_type": "code",
   "execution_count": 3,
   "metadata": {},
   "outputs": [],
   "source": [
    "ROOT = Path('__file__').resolve().parents[2]"
   ]
  },
  {
   "cell_type": "code",
   "execution_count": 4,
   "metadata": {},
   "outputs": [
    {
     "data": {
      "text/plain": [
       "['/root/workspace/work/Digital-Tashkent/Signs/data/content/23.06.2022',\n",
       " '/root/workspace/work/Digital-Tashkent/Signs/data/content/6 Otabek 06.21',\n",
       " '/root/workspace/work/Digital-Tashkent/Signs/data/content/27062022',\n",
       " '/root/workspace/work/Digital-Tashkent/Signs/data/content/28.06.2022 full',\n",
       " '/root/workspace/work/Digital-Tashkent/Signs/data/content/3',\n",
       " '/root/workspace/work/Digital-Tashkent/Signs/data/content/19.07.2022',\n",
       " '/root/workspace/work/Digital-Tashkent/Signs/data/content/30062022',\n",
       " '/root/workspace/work/Digital-Tashkent/Signs/data/content/15082022',\n",
       " '/root/workspace/work/Digital-Tashkent/Signs/data/content/7 Otabek 06.21',\n",
       " '/root/workspace/work/Digital-Tashkent/Signs/data/content/05.07-22.08',\n",
       " '/root/workspace/work/Digital-Tashkent/Signs/data/content/5 Otabek 06.21',\n",
       " '/root/workspace/work/Digital-Tashkent/Signs/data/content/13082022',\n",
       " '/root/workspace/work/Digital-Tashkent/Signs/data/content/1',\n",
       " '/root/workspace/work/Digital-Tashkent/Signs/data/content/2',\n",
       " '/root/workspace/work/Digital-Tashkent/Signs/data/content/30.06.2022',\n",
       " '/root/workspace/work/Digital-Tashkent/Signs/data/content/22062022_2']"
      ]
     },
     "execution_count": 4,
     "metadata": {},
     "output_type": "execute_result"
    }
   ],
   "source": [
    "content_path = glob.glob(os.path.join(ROOT, 'data/content/*'))\n",
    "content_path"
   ]
  },
  {
   "cell_type": "code",
   "execution_count": 5,
   "metadata": {},
   "outputs": [
    {
     "data": {
      "text/plain": [
       "['/root/workspace/work/Digital-Tashkent/Signs/data/content/23.06.2022/23.06.2022 tr_csv.csv',\n",
       " '/root/workspace/work/Digital-Tashkent/Signs/data/content/6 Otabek 06.21/Example_Project_Attributes_included_csv.csv',\n",
       " '/root/workspace/work/Digital-Tashkent/Signs/data/content/27062022/27062022_csv.csv',\n",
       " '/root/workspace/work/Digital-Tashkent/Signs/data/content/28.06.2022 full/28062022 from 00010F_4 .csv',\n",
       " '/root/workspace/work/Digital-Tashkent/Signs/data/content/28.06.2022 full/28062022 to 00010F_4.csv',\n",
       " '/root/workspace/work/Digital-Tashkent/Signs/data/content/3/khakimov- sign project 3_csv.csv',\n",
       " '/root/workspace/work/Digital-Tashkent/Signs/data/content/19.07.2022/19_07_22_csv.csv',\n",
       " '/root/workspace/work/Digital-Tashkent/Signs/data/content/30062022/30.06.22 (113415, 115029, 123930)_csv.csv',\n",
       " '/root/workspace/work/Digital-Tashkent/Signs/data/content/15082022/15.08.2022 full_csv.csv',\n",
       " '/root/workspace/work/Digital-Tashkent/Signs/data/content/7 Otabek 06.21/Example_Project_Attributes_included_csv.csv',\n",
       " '/root/workspace/work/Digital-Tashkent/Signs/data/content/05.07-22.08/05.07.2022 (full)_csv.csv',\n",
       " '/root/workspace/work/Digital-Tashkent/Signs/data/content/05.07-22.08/22.08.2022 (full)_csv.csv',\n",
       " '/root/workspace/work/Digital-Tashkent/Signs/data/content/05.07-22.08/temur_full_csv.csv',\n",
       " '/root/workspace/work/Digital-Tashkent/Signs/data/content/5 Otabek 06.21/Example_Project_Attributes_included_csv.csv',\n",
       " '/root/workspace/work/Digital-Tashkent/Signs/data/content/13082022/13.08.2022 full_csv.csv',\n",
       " '/root/workspace/work/Digital-Tashkent/Signs/data/content/1/Road_Signs_1(October)_csv.csv',\n",
       " '/root/workspace/work/Digital-Tashkent/Signs/data/content/2/Road_Signs_2(October)_csv.csv',\n",
       " '/root/workspace/work/Digital-Tashkent/Signs/data/content/30.06.2022/30.06.2022tt_csv.csv',\n",
       " '/root/workspace/work/Digital-Tashkent/Signs/data/content/22062022_2/22.06.2022 full_csv.csv']"
      ]
     },
     "execution_count": 5,
     "metadata": {},
     "output_type": "execute_result"
    }
   ],
   "source": [
    "list_train = glob.glob(os.path.join(ROOT, 'data/content/*/*.csv'))\n",
    "list_train"
   ]
  },
  {
   "cell_type": "code",
   "execution_count": 6,
   "metadata": {},
   "outputs": [
    {
     "data": {
      "text/html": [
       "<div>\n",
       "<style scoped>\n",
       "    .dataframe tbody tr th:only-of-type {\n",
       "        vertical-align: middle;\n",
       "    }\n",
       "\n",
       "    .dataframe tbody tr th {\n",
       "        vertical-align: top;\n",
       "    }\n",
       "\n",
       "    .dataframe thead th {\n",
       "        text-align: right;\n",
       "    }\n",
       "</style>\n",
       "<table border=\"1\" class=\"dataframe\">\n",
       "  <thead>\n",
       "    <tr style=\"text-align: right;\">\n",
       "      <th></th>\n",
       "      <th>filename</th>\n",
       "      <th>file_size</th>\n",
       "      <th>file_attributes</th>\n",
       "      <th>region_count</th>\n",
       "      <th>region_id</th>\n",
       "      <th>region_shape_attributes</th>\n",
       "      <th>region_attributes</th>\n",
       "    </tr>\n",
       "  </thead>\n",
       "  <tbody>\n",
       "    <tr>\n",
       "      <th>0</th>\n",
       "      <td>NO20220623-160950-000054F_1.JPG</td>\n",
       "      <td>610139</td>\n",
       "      <td>{}</td>\n",
       "      <td>4</td>\n",
       "      <td>0</td>\n",
       "      <td>{\"name\":\"rect\",\"x\":1764,\"y\":320,\"width\":153,\"h...</td>\n",
       "      <td>{\"Name\":\"5.33\",\"Type\":\"Informational_sign\"}</td>\n",
       "    </tr>\n",
       "    <tr>\n",
       "      <th>1</th>\n",
       "      <td>NO20220623-160950-000054F_1.JPG</td>\n",
       "      <td>610139</td>\n",
       "      <td>{}</td>\n",
       "      <td>4</td>\n",
       "      <td>1</td>\n",
       "      <td>{\"name\":\"rect\",\"x\":1750,\"y\":384,\"width\":187,\"h...</td>\n",
       "      <td>{\"Name\":\"2.1\",\"Type\":\"Priority_sign\"}</td>\n",
       "    </tr>\n",
       "    <tr>\n",
       "      <th>2</th>\n",
       "      <td>NO20220623-160950-000054F_1.JPG</td>\n",
       "      <td>610139</td>\n",
       "      <td>{}</td>\n",
       "      <td>4</td>\n",
       "      <td>2</td>\n",
       "      <td>{\"name\":\"rect\",\"x\":1098,\"y\":549,\"width\":53,\"he...</td>\n",
       "      <td>{\"Name\":\"2.1\",\"Type\":\"Priority_sign\"}</td>\n",
       "    </tr>\n",
       "    <tr>\n",
       "      <th>3</th>\n",
       "      <td>NO20220623-160950-000054F_1.JPG</td>\n",
       "      <td>610139</td>\n",
       "      <td>{}</td>\n",
       "      <td>4</td>\n",
       "      <td>3</td>\n",
       "      <td>{\"name\":\"rect\",\"x\":1570,\"y\":616,\"width\":65,\"he...</td>\n",
       "      <td>{\"Name\":\"5.16.2\",\"Type\":\"Informational_sign\"}</td>\n",
       "    </tr>\n",
       "    <tr>\n",
       "      <th>4</th>\n",
       "      <td>NO20220623-160950-000054F_2.JPG</td>\n",
       "      <td>450237</td>\n",
       "      <td>{}</td>\n",
       "      <td>2</td>\n",
       "      <td>0</td>\n",
       "      <td>{\"name\":\"rect\",\"x\":1047,\"y\":478,\"width\":58,\"he...</td>\n",
       "      <td>{\"Name\":\"2.1\"}</td>\n",
       "    </tr>\n",
       "    <tr>\n",
       "      <th>...</th>\n",
       "      <td>...</td>\n",
       "      <td>...</td>\n",
       "      <td>...</td>\n",
       "      <td>...</td>\n",
       "      <td>...</td>\n",
       "      <td>...</td>\n",
       "      <td>...</td>\n",
       "    </tr>\n",
       "    <tr>\n",
       "      <th>657</th>\n",
       "      <td>NO20220623-200545-000100F_2.JPG</td>\n",
       "      <td>354621</td>\n",
       "      <td>{}</td>\n",
       "      <td>3</td>\n",
       "      <td>1</td>\n",
       "      <td>{\"name\":\"rect\",\"x\":2071,\"y\":477,\"width\":104,\"h...</td>\n",
       "      <td>{\"Name\":\"3.4\",\"Type\":\"Forbidding_sign\"}</td>\n",
       "    </tr>\n",
       "    <tr>\n",
       "      <th>658</th>\n",
       "      <td>NO20220623-200545-000100F_2.JPG</td>\n",
       "      <td>354621</td>\n",
       "      <td>{}</td>\n",
       "      <td>3</td>\n",
       "      <td>2</td>\n",
       "      <td>{\"name\":\"rect\",\"x\":2081,\"y\":591,\"width\":104,\"h...</td>\n",
       "      <td>{\"Name\":\"7.3.3\",\"Type\":\"Additional_info_sign\"}</td>\n",
       "    </tr>\n",
       "    <tr>\n",
       "      <th>659</th>\n",
       "      <td>NO20220623-200845-000101F_1.JPG</td>\n",
       "      <td>338293</td>\n",
       "      <td>{}</td>\n",
       "      <td>2</td>\n",
       "      <td>0</td>\n",
       "      <td>{\"name\":\"rect\",\"x\":1720,\"y\":406,\"width\":133,\"h...</td>\n",
       "      <td>{\"Name\":\"5.16.2\",\"Type\":\"Informational_sign\"}</td>\n",
       "    </tr>\n",
       "    <tr>\n",
       "      <th>660</th>\n",
       "      <td>NO20220623-200845-000101F_1.JPG</td>\n",
       "      <td>338293</td>\n",
       "      <td>{}</td>\n",
       "      <td>2</td>\n",
       "      <td>1</td>\n",
       "      <td>{\"name\":\"rect\",\"x\":1498,\"y\":624,\"width\":84,\"he...</td>\n",
       "      <td>{\"Name\":\"5.46\",\"Type\":\"Informational_sign\"}</td>\n",
       "    </tr>\n",
       "    <tr>\n",
       "      <th>661</th>\n",
       "      <td>NO20220623-200845-000101F_2.JPG</td>\n",
       "      <td>394039</td>\n",
       "      <td>{}</td>\n",
       "      <td>1</td>\n",
       "      <td>0</td>\n",
       "      <td>{\"name\":\"rect\",\"x\":1673,\"y\":441,\"width\":133,\"h...</td>\n",
       "      <td>{\"Name\":\"5.46\",\"Type\":\"Informational_sign\"}</td>\n",
       "    </tr>\n",
       "  </tbody>\n",
       "</table>\n",
       "<p>662 rows × 7 columns</p>\n",
       "</div>"
      ],
      "text/plain": [
       "                            filename  file_size file_attributes  region_count  \\\n",
       "0    NO20220623-160950-000054F_1.JPG     610139              {}             4   \n",
       "1    NO20220623-160950-000054F_1.JPG     610139              {}             4   \n",
       "2    NO20220623-160950-000054F_1.JPG     610139              {}             4   \n",
       "3    NO20220623-160950-000054F_1.JPG     610139              {}             4   \n",
       "4    NO20220623-160950-000054F_2.JPG     450237              {}             2   \n",
       "..                               ...        ...             ...           ...   \n",
       "657  NO20220623-200545-000100F_2.JPG     354621              {}             3   \n",
       "658  NO20220623-200545-000100F_2.JPG     354621              {}             3   \n",
       "659  NO20220623-200845-000101F_1.JPG     338293              {}             2   \n",
       "660  NO20220623-200845-000101F_1.JPG     338293              {}             2   \n",
       "661  NO20220623-200845-000101F_2.JPG     394039              {}             1   \n",
       "\n",
       "     region_id                            region_shape_attributes  \\\n",
       "0            0  {\"name\":\"rect\",\"x\":1764,\"y\":320,\"width\":153,\"h...   \n",
       "1            1  {\"name\":\"rect\",\"x\":1750,\"y\":384,\"width\":187,\"h...   \n",
       "2            2  {\"name\":\"rect\",\"x\":1098,\"y\":549,\"width\":53,\"he...   \n",
       "3            3  {\"name\":\"rect\",\"x\":1570,\"y\":616,\"width\":65,\"he...   \n",
       "4            0  {\"name\":\"rect\",\"x\":1047,\"y\":478,\"width\":58,\"he...   \n",
       "..         ...                                                ...   \n",
       "657          1  {\"name\":\"rect\",\"x\":2071,\"y\":477,\"width\":104,\"h...   \n",
       "658          2  {\"name\":\"rect\",\"x\":2081,\"y\":591,\"width\":104,\"h...   \n",
       "659          0  {\"name\":\"rect\",\"x\":1720,\"y\":406,\"width\":133,\"h...   \n",
       "660          1  {\"name\":\"rect\",\"x\":1498,\"y\":624,\"width\":84,\"he...   \n",
       "661          0  {\"name\":\"rect\",\"x\":1673,\"y\":441,\"width\":133,\"h...   \n",
       "\n",
       "                                  region_attributes  \n",
       "0       {\"Name\":\"5.33\",\"Type\":\"Informational_sign\"}  \n",
       "1             {\"Name\":\"2.1\",\"Type\":\"Priority_sign\"}  \n",
       "2             {\"Name\":\"2.1\",\"Type\":\"Priority_sign\"}  \n",
       "3     {\"Name\":\"5.16.2\",\"Type\":\"Informational_sign\"}  \n",
       "4                                    {\"Name\":\"2.1\"}  \n",
       "..                                              ...  \n",
       "657         {\"Name\":\"3.4\",\"Type\":\"Forbidding_sign\"}  \n",
       "658  {\"Name\":\"7.3.3\",\"Type\":\"Additional_info_sign\"}  \n",
       "659   {\"Name\":\"5.16.2\",\"Type\":\"Informational_sign\"}  \n",
       "660     {\"Name\":\"5.46\",\"Type\":\"Informational_sign\"}  \n",
       "661     {\"Name\":\"5.46\",\"Type\":\"Informational_sign\"}  \n",
       "\n",
       "[662 rows x 7 columns]"
      ]
     },
     "execution_count": 6,
     "metadata": {},
     "output_type": "execute_result"
    }
   ],
   "source": [
    "data = pd.read_csv(list_train[0])\n",
    "data"
   ]
  },
  {
   "cell_type": "code",
   "execution_count": 7,
   "metadata": {},
   "outputs": [
    {
     "name": "stderr",
     "output_type": "stream",
     "text": [
      "/root/workspace/work/Digital-Tashkent/Signs/traffic-sign-recognition/detection/services/service.py:68: FutureWarning: In a future version of pandas all arguments of concat except for the argument 'objs' will be keyword-only.\n",
      "  data = pd.concat([data, datadf, datadf2],1)[['filename','height','width','x','y', 'Name', 'Type']]\n",
      "/root/workspace/work/Digital-Tashkent/Signs/traffic-sign-recognition/detection/services/service.py:82: FutureWarning: In a future version of pandas all arguments of concat except for the argument 'objs' will be keyword-only.\n",
      "  data = pd.concat([data, datadf, datadf2],1)\n"
     ]
    }
   ],
   "source": [
    "data = convertFromJson(data)\n",
    "data = convertToXYmax(data)"
   ]
  },
  {
   "cell_type": "code",
   "execution_count": 8,
   "metadata": {},
   "outputs": [
    {
     "data": {
      "text/plain": [
       "<AxesSubplot: >"
      ]
     },
     "execution_count": 8,
     "metadata": {},
     "output_type": "execute_result"
    },
    {
     "data": {
      "image/png": "[encoded data removed]",
      "text/plain": [
       "<Figure size 1500x1000 with 1 Axes>"
      ]
     },
     "metadata": {},
     "output_type": "display_data"
    }
   ],
   "source": [
    "data['name'].hist(figsize=(15, 10), bins=20)"
   ]
  },
  {
   "cell_type": "code",
   "execution_count": null,
   "metadata": {},
   "outputs": [],
   "source": [
    "def joiner(csv_item):\n",
    "    data = pd.read_csv(csv_item)\n"
   ]
  },
  {
   "cell_type": "code",
   "execution_count": 18,
   "metadata": {},
   "outputs": [],
   "source": [
    "pth = '/'.join(list_train[0].split('/')[:-1])\n",
    "pth = os.path.join(pth, data.iloc[0]['image'])\n",
    "img = cv2.imread(pth)"
   ]
  },
  {
   "cell_type": "code",
   "execution_count": null,
   "metadata": {},
   "outputs": [],
   "source": []
  }
 ],
 "metadata": {
  "kernelspec": {
   "display_name": "sign-rec",
   "language": "python",
   "name": "python3"
  },
  "language_info": {
   "codemirror_mode": {
    "name": "ipython",
    "version": 3
   },
   "file_extension": ".py",
   "mimetype": "text/x-python",
   "name": "python",
   "nbconvert_exporter": "python",
   "pygments_lexer": "ipython3",
   "version": "3.10.8"
  },
  "orig_nbformat": 4,
  "vscode": {
   "interpreter": {
    "hash": "f842aa1788f26e6ab38c014779ece966b3b73b041a52ee3daa1e6cc3a3c21458"
   }
  }
 },
 "nbformat": 4,
 "nbformat_minor": 2
}
