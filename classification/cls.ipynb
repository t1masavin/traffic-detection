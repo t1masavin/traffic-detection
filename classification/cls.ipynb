{
 "cells": [
  {
   "cell_type": "code",
   "execution_count": 1,
   "metadata": {},
   "outputs": [],
   "source": [
    "from service_loader import sys_append_abs, Path\n",
    "sys_append_abs()\n",
    "from detection.services.service import get_image, visualize_bbox, convertFromJson, convertToXYmax"
   ]
  },
  {
   "cell_type": "code",
   "execution_count": 2,
   "metadata": {},
   "outputs": [],
   "source": [
    "import os\n",
    "import glob\n",
    "import pandas as pd\n",
    "import cv2\n",
    "import matplotlib.pyplot as plt"
   ]
  },
  {
   "cell_type": "code",
   "execution_count": 3,
   "metadata": {},
   "outputs": [],
   "source": [
    "ROOT = Path('__file__').resolve().parents[2]"
   ]
  },
  {
   "cell_type": "code",
   "execution_count": 4,
   "metadata": {},
   "outputs": [
    {
     "data": {
      "text/plain": [
       "['/root/workspace/work/Digital-Tashkent/Signs/data/content/23.06.2022',\n",
       " '/root/workspace/work/Digital-Tashkent/Signs/data/content/6 Otabek 06.21',\n",
       " '/root/workspace/work/Digital-Tashkent/Signs/data/content/27062022',\n",
       " '/root/workspace/work/Digital-Tashkent/Signs/data/content/28.06.2022 full',\n",
       " '/root/workspace/work/Digital-Tashkent/Signs/data/content/3',\n",
       " '/root/workspace/work/Digital-Tashkent/Signs/data/content/19.07.2022',\n",
       " '/root/workspace/work/Digital-Tashkent/Signs/data/content/30062022',\n",
       " '/root/workspace/work/Digital-Tashkent/Signs/data/content/15082022',\n",
       " '/root/workspace/work/Digital-Tashkent/Signs/data/content/7 Otabek 06.21',\n",
       " '/root/workspace/work/Digital-Tashkent/Signs/data/content/05.07-22.08',\n",
       " '/root/workspace/work/Digital-Tashkent/Signs/data/content/5 Otabek 06.21',\n",
       " '/root/workspace/work/Digital-Tashkent/Signs/data/content/13082022',\n",
       " '/root/workspace/work/Digital-Tashkent/Signs/data/content/1',\n",
       " '/root/workspace/work/Digital-Tashkent/Signs/data/content/2',\n",
       " '/root/workspace/work/Digital-Tashkent/Signs/data/content/30.06.2022',\n",
       " '/root/workspace/work/Digital-Tashkent/Signs/data/content/22062022_2']"
      ]
     },
     "execution_count": 4,
     "metadata": {},
     "output_type": "execute_result"
    }
   ],
   "source": [
    "content_path = glob.glob(os.path.join(ROOT, 'data/content/*'))\n",
    "content_path"
   ]
  },
  {
   "cell_type": "code",
   "execution_count": 5,
   "metadata": {},
   "outputs": [
    {
     "data": {
      "text/plain": [
       "['/root/workspace/work/Digital-Tashkent/Signs/data/content/23.06.2022/23.06.2022 tr_csv.csv',\n",
       " '/root/workspace/work/Digital-Tashkent/Signs/data/content/6 Otabek 06.21/Example_Project_Attributes_included_csv.csv',\n",
       " '/root/workspace/work/Digital-Tashkent/Signs/data/content/27062022/27062022_csv.csv',\n",
       " '/root/workspace/work/Digital-Tashkent/Signs/data/content/28.06.2022 full/28062022 from 00010F_4 .csv',\n",
       " '/root/workspace/work/Digital-Tashkent/Signs/data/content/28.06.2022 full/28062022 to 00010F_4.csv',\n",
       " '/root/workspace/work/Digital-Tashkent/Signs/data/content/3/khakimov- sign project 3_csv.csv',\n",
       " '/root/workspace/work/Digital-Tashkent/Signs/data/content/19.07.2022/19_07_22_csv.csv',\n",
       " '/root/workspace/work/Digital-Tashkent/Signs/data/content/30062022/30.06.22 (113415, 115029, 123930)_csv.csv',\n",
       " '/root/workspace/work/Digital-Tashkent/Signs/data/content/15082022/15.08.2022 full_csv.csv',\n",
       " '/root/workspace/work/Digital-Tashkent/Signs/data/content/7 Otabek 06.21/Example_Project_Attributes_included_csv.csv',\n",
       " '/root/workspace/work/Digital-Tashkent/Signs/data/content/05.07-22.08/05.07.2022 (full)_csv.csv',\n",
       " '/root/workspace/work/Digital-Tashkent/Signs/data/content/05.07-22.08/22.08.2022 (full)_csv.csv',\n",
       " '/root/workspace/work/Digital-Tashkent/Signs/data/content/05.07-22.08/temur_full_csv.csv',\n",
       " '/root/workspace/work/Digital-Tashkent/Signs/data/content/5 Otabek 06.21/Example_Project_Attributes_included_csv.csv',\n",
       " '/root/workspace/work/Digital-Tashkent/Signs/data/content/13082022/13.08.2022 full_csv.csv',\n",
       " '/root/workspace/work/Digital-Tashkent/Signs/data/content/1/Road_Signs_1(October)_csv.csv',\n",
       " '/root/workspace/work/Digital-Tashkent/Signs/data/content/2/Road_Signs_2(October)_csv.csv',\n",
       " '/root/workspace/work/Digital-Tashkent/Signs/data/content/30.06.2022/30.06.2022tt_csv.csv',\n",
       " '/root/workspace/work/Digital-Tashkent/Signs/data/content/22062022_2/22.06.2022 full_csv.csv']"
      ]
     },
     "execution_count": 5,
     "metadata": {},
     "output_type": "execute_result"
    }
   ],
   "source": [
    "list_train = glob.glob(os.path.join(ROOT, 'data/content/*/*.csv'))\n",
    "list_train"
   ]
  },
  {
   "cell_type": "code",
   "execution_count": null,
   "metadata": {},
   "outputs": [],
   "source": [
    "# def splitter(item):\n",
    "#     return item.split(':')[-1].split('}')[0]\n",
    "# df = pd.read_csv(list_train[-1])\n",
    "# df.reset_index(inplace=True)\n",
    "# df.drop(['level_1', 'level_2', 'level_3', 'level_4', 'filename'], inplace=True, axis=1)\n",
    "# df.columns = ['filename', 'x', 'y', 'width', 'height', 'Name', 'Type']\n",
    "# for col in df.columns:\n",
    "#     df[col] = df[col].apply(splitter)\n",
    "# data = convertToXYmax(data)\n",
    "# df.to_csv(list_train[-1])"
   ]
  },
  {
   "cell_type": "code",
   "execution_count": 82,
   "metadata": {},
   "outputs": [],
   "source": [
    "def get_crop(img, bbox):\n",
    "    return img[bbox[1]:bbox[3], bbox[0]:bbox[2]]\n",
    "\n",
    "def wrapper(pth):\n",
    "    def root2path(item):\n",
    "        return os.path.join(pth, item)\n",
    "    return root2path\n",
    "\n",
    "def joiner(csv_item):\n",
    "    data = pd.read_csv(csv_item)\n",
    "    pth = '/'.join(csv_item.split('/')[:-1])\n",
    "    if 'xmin' not in data.columns:\n",
    "        data = convertFromJson(data)\n",
    "        data = convertToXYmax(data)\n",
    "    data['image'] = data['image'].apply(wrapper(pth))\n",
    "    return data"
   ]
  },
  {
   "cell_type": "code",
   "execution_count": 83,
   "metadata": {},
   "outputs": [
    {
     "data": {
      "text/plain": [
       "<matplotlib.image.AxesImage at 0x7f197d2f3310>"
      ]
     },
     "execution_count": 83,
     "metadata": {},
     "output_type": "execute_result"
    },
    {
     "data": {
      "image/png": "[encoded data removed]",
      "text/plain": [
       "<Figure size 640x480 with 1 Axes>"
      ]
     },
     "metadata": {},
     "output_type": "display_data"
    }
   ],
   "source": [
    "# 18 trash file\n",
    "index = 18\n",
    "data = joiner(list_train[index])\n",
    "im, bbox = get_image(data, index)\n",
    "bbox = list(map(int, bbox))\n",
    "plt.imshow(get_crop(im, bbox))"
   ]
  },
  {
   "cell_type": "code",
   "execution_count": null,
   "metadata": {},
   "outputs": [],
   "source": []
  }
 ],
 "metadata": {
  "kernelspec": {
   "display_name": "sign-rec",
   "language": "python",
   "name": "python3"
  },
  "language_info": {
   "codemirror_mode": {
    "name": "ipython",
    "version": 3
   },
   "file_extension": ".py",
   "mimetype": "text/x-python",
   "name": "python",
   "nbconvert_exporter": "python",
   "pygments_lexer": "ipython3",
   "version": "3.10.8"
  },
  "orig_nbformat": 4,
  "vscode": {
   "interpreter": {
    "hash": "f842aa1788f26e6ab38c014779ece966b3b73b041a52ee3daa1e6cc3a3c21458"
   }
  }
 },
 "nbformat": 4,
 "nbformat_minor": 2
}
