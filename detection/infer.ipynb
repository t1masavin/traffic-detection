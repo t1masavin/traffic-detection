{
 "cells": [
  {
   "cell_type": "code",
   "execution_count": 1,
   "metadata": {},
   "outputs": [],
   "source": [
    "import cv2\n",
    "import base64\n",
    "import torch\n",
    "import torchvision\n",
    "import pandas as pd\n",
    "import numpy as np\n",
    "\n",
    "from services.service import get_label\n",
    "from services.augmentations import  get_infer_augmentation\n",
    "from services.model import FasterRCNN, InferImages\n",
    "\n",
    "\n",
    "import warnings\n",
    "warnings.filterwarnings(\"ignore\", category=DeprecationWarning) \n",
    "%matplotlib inline"
   ]
  },
  {
   "cell_type": "code",
   "execution_count": 2,
   "metadata": {},
   "outputs": [],
   "source": [
    "n_classes = 5\n",
    "det_model = FasterRCNN(n_classes)\n",
    "det_model = det_model.load_from_checkpoint(checkpoint_path='../lightning_logs/detection/3class_v1/epoch=88-step=4984.ckpt', n_classes=n_classes)\n",
    "det_model.eval()\n",
    "det_model = det_model.to('cpu')"
   ]
  },
  {
   "cell_type": "code",
   "execution_count": 3,
   "metadata": {},
   "outputs": [],
   "source": [
    "def readb64(uri):\n",
    "   encoded_data = uri.split(',')[1]\n",
    "   nparr = np.fromstring(base64.b64decode(encoded_data), np.uint8)\n",
    "   img = cv2.imdecode(nparr, cv2.IMREAD_COLOR)\n",
    "   return img"
   ]
  },
  {
   "cell_type": "code",
   "execution_count": 58,
   "metadata": {},
   "outputs": [],
   "source": [
    "def process_infer(image):\n",
    "    batch_size = 1\n",
    "    outs = det_model(image)\n",
    "    bboxes = outs[batch_size - 1]['boxes']\n",
    "    labels = outs[batch_size - 1]['labels']\n",
    "    scores = outs[batch_size - 1]['scores']\n",
    "    return bboxes, scores, labels"
   ]
  },
  {
   "cell_type": "code",
   "execution_count": null,
   "metadata": {},
   "outputs": [],
   "source": [
    "PATH = '/home/tim/work/tashkent/traffic/cutting_video/'"
   ]
  },
  {
   "cell_type": "code",
   "execution_count": 59,
   "metadata": {},
   "outputs": [],
   "source": [
    "infer = InferImages(2, get_infer_augmentation)"
   ]
  },
  {
   "cell_type": "code",
   "execution_count": 60,
   "metadata": {},
   "outputs": [],
   "source": [
    "infer.append([PATH + 'out-223.jpg'])\n",
    "image = infer()"
   ]
  },
  {
   "cell_type": "code",
   "execution_count": 7,
   "metadata": {},
   "outputs": [],
   "source": [
    "import sort\n",
    "mot_tracker = sort.Sort(min_hits=2, iou_threshold=0) "
   ]
  },
  {
   "cell_type": "code",
   "execution_count": 8,
   "metadata": {},
   "outputs": [
    {
     "name": "stdout",
     "output_type": "stream",
     "text": [
      "12\n",
      "[]\n",
      "13\n",
      "[]\n",
      "14\n",
      "[[354.         220.         374.         242.           0.94769889]]\n",
      "[]\n",
      "15\n",
      "[[361.         214.         382.         239.           0.99252582]]\n",
      "[]\n",
      "16\n",
      "[[369.         207.         393.         234.           0.99913687]]\n",
      "[[369.00542952 207.07811791 392.75803495 234.09911181   1.        ]]\n",
      "17\n",
      "[[377.         199.         404.         229.           0.99930155]]\n",
      "[[377.16919327 199.19793854 403.65023088 229.09031365   1.        ]]\n",
      "18\n",
      "[[386.         189.         417.         221.           0.99984121]]\n",
      "[[386.29849406 189.41831656 415.90996671 221.93535205   1.        ]]\n",
      "19\n",
      "[[396.         174.         432.         211.           0.99989831]]\n",
      "[[396.29770419 175.92957891 430.08717458 212.32432363   1.        ]]\n",
      "20\n",
      "[[409.         153.         449.         197.           0.99992406]]\n",
      "[[408.34573928 157.4178263  446.57480266 198.83417039   1.        ]]\n",
      "21\n",
      "[[426.        125.        474.        177.          0.9999553]]\n",
      "[[424.45501697 132.22394419 468.72707796 180.18662552   1.        ]]\n",
      "22\n",
      "[[449.          81.         509.         148.           0.99995065]]\n",
      "[[446.15191293  94.634939   499.50319488 152.90708093   1.        ]]\n",
      "23\n",
      "[[488.           4.         567.          92.           0.99996662]]\n",
      "[[481.20422625  30.60379467 548.22938101 104.19983709   1.        ]]\n",
      "24\n",
      "[]\n",
      "25\n",
      "[]\n",
      "26\n",
      "[]\n",
      "27\n",
      "[[5.34000000e+02 2.70000000e+02 5.42000000e+02 2.85000000e+02\n",
      "  4.86126661e-01]]\n",
      "[]\n",
      "28\n",
      "[]\n",
      "29\n",
      "[[5.32000000e+02 2.70000000e+02 5.39000000e+02 2.86000000e+02\n",
      "  2.93650001e-01]]\n",
      "[]\n",
      "30\n",
      "[]\n",
      "31\n",
      "[[5.09000000e+02 2.70000000e+02 5.17000000e+02 2.87000000e+02\n",
      "  4.03377116e-01]]\n",
      "[]\n",
      "32\n",
      "[[491.         269.         499.         286.           0.92288101]]\n",
      "[[493.37225283 269.33322301 501.39416733 286.2386485    2.        ]]\n",
      "33\n",
      "[[470.         267.         478.         286.           0.88077736]]\n",
      "[[473.22007751 267.90103226 481.40356171 285.76701801   2.        ]]\n",
      "34\n",
      "[[444.         268.         452.         287.           0.95398307]]\n",
      "[[448.52407242 268.01075987 456.76658138 286.43688417   2.        ]]\n",
      "35\n",
      "[[414.         267.         423.         287.           0.94403201]]\n",
      "[[419.79455602 267.35835625 428.45827813 286.69370169   2.        ]]\n",
      "36\n",
      "[[382.         267.         392.         288.           0.98355687]]\n",
      "[[388.37732416 267.10378236 397.67529463 287.50188668   2.        ]]\n",
      "37\n",
      "[[346.         266.         355.         288.           0.97948462]]\n",
      "[[353.04923448 266.48308899 362.43192778 287.65990043   2.        ]]\n",
      "38\n",
      "[[306.         266.         316.         289.           0.99120367]]\n",
      "[[314.14498427 266.24138317 323.91681913 288.40907033   2.        ]]\n",
      "39\n",
      "[[259.         265.         269.         289.           0.96998996]]\n",
      "[[269.14880336 265.5345531  279.1847455  288.64441553   2.        ]]\n",
      "40\n",
      "[[203.         262.         214.         289.           0.99198228]]\n",
      "[[216.19202753 263.60707029 226.78180625 288.4073781    2.        ]]\n",
      "41\n",
      "[[135.         258.         147.         288.           0.99720556]]\n",
      "[[152.41310719 260.45877318 163.7380282  287.44208598   2.        ]]\n",
      "42\n",
      "[[ 47.         252.          61.         287.           0.99740845]]\n",
      "[[ 71.64627484 255.73557664  84.19364219 286.01571504   2.        ]]\n",
      "43\n",
      "[]\n",
      "44\n",
      "[]\n",
      "45\n",
      "[]\n",
      "46\n",
      "[]\n",
      "47\n",
      "[]\n",
      "48\n",
      "[]\n"
     ]
    }
   ],
   "source": [
    "list_of_track = []\n",
    "for i in range(12, 49):\n",
    "    print(i)\n",
    "    infer.append([PATH + f'out-2{i}.jpg'])\n",
    "    image = infer()\n",
    "    bboxes, scores, labels = process_infer(image)\n",
    "    if len(scores) >= 1:\n",
    "        bb = bboxes.detach().to(int).numpy()\n",
    "        scores = scores.detach().numpy()\n",
    "        det = np.append(bb, scores)\n",
    "        uns_det = np.expand_dims(det, axis=0)\n",
    "        print(uns_det)\n",
    "        ret = mot_tracker.update(uns_det)\n",
    "        list_of_track.append(ret)\n",
    "    else:\n",
    "        ret = mot_tracker.update()\n",
    "\n",
    "    print(ret)\n",
    "    \n"
   ]
  },
  {
   "cell_type": "code",
   "execution_count": null,
   "metadata": {},
   "outputs": [],
   "source": []
  }
 ],
 "metadata": {
  "kernelspec": {
   "display_name": "Python 3.10.4 ('geo')",
   "language": "python",
   "name": "python3"
  },
  "language_info": {
   "codemirror_mode": {
    "name": "ipython",
    "version": 3
   },
   "file_extension": ".py",
   "mimetype": "text/x-python",
   "name": "python",
   "nbconvert_exporter": "python",
   "pygments_lexer": "ipython3",
   "version": "3.10.4"
  },
  "orig_nbformat": 4,
  "vscode": {
   "interpreter": {
    "hash": "69af19485ccd259f20d08d91c8b9e13943707c152c9e0686319dd8e8141c9bef"
   }
  }
 },
 "nbformat": 4,
 "nbformat_minor": 2
}
